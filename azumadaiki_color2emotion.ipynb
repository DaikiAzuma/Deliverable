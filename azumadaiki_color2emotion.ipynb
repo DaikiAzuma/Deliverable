{
 "cells": [
  {
   "cell_type": "code",
   "execution_count": 1,
   "metadata": {},
   "outputs": [],
   "source": [
    "#個人課題のサンプルプログラム\n",
    "#filepathで指定した画像ファイルを読み込み、その画像のRGB値の平均をNumpyのArrayで【行ベクトルで】返す関数　ext_mean_rgb(filepath)\n",
    "#RGB値をnumpy array、qcolor=np.array([r,g,b])で与えられると[赤,橙,黄,緑,青,紫,ピンク,白,グレー,黒]の重みを成分とする10次元ベクトルが出力される関数gen_color_vec(qcolor)\n",
    "#やること\n",
    "#「15分で理解する色彩と心理学の関係－色が人間の心に与える影響」(https://re-sta.jp/color-psychology-7787 )を読みながら印象を表す語と10色の関係を表す行列を作ってみよう\n",
    "#画像データをファイルパスで指定するとその画像データの色の印象から喚起される語が出力されるようなプログラムを作ってみよう\n",
    "#ヒント\n",
    "#印象を表す語と10色(赤,橙,黄,緑,青,紫,ピンク,白,グレー,黒)の関係を表す行列を 𝐴 作成するためには、その語が書いてあれば「1」、書いてなければ「0」で表現する行列を作成すればよい。\n",
    "#上記のext_mean_rgb(filepath)、gen_color_vec(qcolor)を使えば、画像データから10色の要素からなる10次元のベクトルが出力される。\n",
    "#あとは、 𝐲=𝐴𝐱 を計算すれば、 𝐲 が各語の重みになるため、重みの大きいものから順番に列挙できれば完成"
   ]
  },
  {
   "cell_type": "code",
   "execution_count": 40,
   "metadata": {},
   "outputs": [],
   "source": [
    "from PIL import Image\n",
    "import numpy as np\n",
    "import os\n",
    "import pandas as pd\n",
    "import csv\n",
    "\n",
    "# filepathで指定した画像ファイルを読み込み、その画像のRGB値の平均をNumpyのArrayで【行ベクトルで】返す関数　ext_mean_rgb(filepath)\n",
    "def ext_mean_rgb(filepath):\n",
    "  image = np.array(Image.open(filepath).convert('RGB')).reshape(-1,3)\n",
    "  return np.array([np.mean(image[:,0]),np.mean(image[:,1]),np.mean(image[:,2])])"
   ]
  },
  {
   "cell_type": "code",
   "execution_count": 41,
   "metadata": {},
   "outputs": [],
   "source": [
    "import numpy as np\n",
    "from scipy.spatial import distance\n",
    "\n",
    "# RGB値をnumpy array、qcolor=np.array([r,g,b])で与えられると[赤,橙,黄,緑,青,紫,ピンク,白,グレー,黒]の重みを成分とする10次元ベクトルが出力される関数gen_color_vec(qcolor)\n",
    "def gen_color_vec(qcolor):\n",
    "  colorvec=np.array([])\n",
    "  palette=np.array(\n",
    "      [\n",
    "       [255,0,0], #赤\n",
    "      [255,102,0],  #橙\n",
    "      [255,255,0],  #黄\n",
    "      [0,128,0],  #緑\n",
    "      [0,0,255],  #青\n",
    "      [128,0,128],  #紫\n",
    "      [255,0,255],  #ピンク\n",
    "      [255,255,255],  #白\n",
    "      [128,128,128],  #グレー\n",
    "      [0,0,0] #黒\n",
    "      ])\n",
    "  for col in palette:\n",
    "    colorvec=np.append(colorvec,distance.euclidean(col,qcolor))\n",
    "  colorvec=1-colorvec/np.linalg.norm(colorvec,np.inf)\n",
    "  return colorvec"
   ]
  },
  {
   "cell_type": "code",
   "execution_count": 42,
   "metadata": {},
   "outputs": [
    {
     "output_type": "execute_result",
     "data": {
      "text/plain": "array([[0.15750928],\n       [0.33231014],\n       [0.35223398],\n       [0.16317814],\n       [0.15750928],\n       [0.36713195],\n       [0.35224911],\n       [0.64028981],\n       [0.68252119],\n       [0.        ]])"
     },
     "metadata": {},
     "execution_count": 42
    }
   ],
   "source": [
    "filepath='Kawaii_cat.png'\n",
    "x=gen_color_vec(ext_mean_rgb(filepath)).reshape(-1,1)\n",
    "x"
   ]
  },
  {
   "cell_type": "code",
   "execution_count": 43,
   "metadata": {},
   "outputs": [],
   "source": [
    "A = np.array([\n",
    "    [1,0,0,0,0,0,0,0,0,0],\n",
    "    [1,0,0,0,0,0,0,0,0,0],\n",
    "    [1,0,0,0,0,0,0,0,0,0],\n",
    "    [1,0,0,0,0,0,0,0,0,0],\n",
    "    [1,0,0,0,0,0,0,0,0,0],\n",
    "    [0,1,1,0,0,0,0,0,0,0],\n",
    "    [0,1,0,0,0,0,0,0,0,0],\n",
    "    [0,1,1,0,0,0,0,0,0,0],\n",
    "    [0,1,0,0,0,0,0,0,0,0],\n",
    "    [0,1,0,0,0,0,0,0,0,0],\n",
    "    [0,0,1,0,0,0,0,0,0,0],\n",
    "    [0,0,1,0,0,0,0,0,0,0],\n",
    "    [0,0,1,0,0,0,0,0,0,0],\n",
    "    [0,0,0,1,0,0,0,0,0,0],\n",
    "    [0,0,0,1,0,0,0,0,0,0],\n",
    "    [0,0,0,1,0,0,0,0,0,0],\n",
    "    [0,0,0,1,0,0,0,0,0,0],\n",
    "    [0,0,0,1,0,0,0,0,0,0],\n",
    "    [0,0,0,0,1,0,0,0,0,0],\n",
    "    [0,0,0,0,1,0,0,0,0,0],\n",
    "    [0,0,0,0,1,0,0,0,0,0],\n",
    "    [0,0,0,0,1,0,0,0,0,0],\n",
    "    [0,0,0,0,1,0,0,0,0,0],\n",
    "    [0,0,0,0,0,1,0,0,0,0],\n",
    "    [0,0,0,0,0,1,0,0,0,0],\n",
    "    [0,0,0,0,0,1,0,0,0,0],\n",
    "    [0,0,0,0,0,1,0,0,0,0],\n",
    "    [0,0,0,0,0,1,0,0,1,0],\n",
    "    [0,0,0,0,0,0,1,0,0,0],\n",
    "    [0,0,0,0,0,0,1,0,0,0],\n",
    "    [0,0,0,0,0,0,1,0,0,0],\n",
    "    [0,0,0,0,0,0,1,0,0,0],\n",
    "    [0,0,0,0,0,0,1,0,0,0],\n",
    "    [0,0,0,0,0,0,0,1,0,0],\n",
    "    [0,0,0,0,0,0,0,1,0,0],\n",
    "    [0,0,0,0,0,0,0,1,0,0],\n",
    "    [0,0,0,0,0,0,0,1,0,0],\n",
    "    [0,0,0,0,0,0,0,1,0,0],\n",
    "    [0,0,0,0,0,0,0,0,1,0],\n",
    "    [0,0,0,0,0,0,0,0,1,0],\n",
    "    [0,0,0,0,0,0,0,0,1,0],\n",
    "    [0,0,0,0,0,0,0,0,1,0],\n",
    "    [0,0,0,0,0,0,0,0,0,1],\n",
    "    [0,0,0,0,0,0,0,0,0,1],\n",
    "    [0,0,0,0,0,0,0,0,0,1],\n",
    "    [0,0,0,0,0,0,0,0,0,1],\n",
    "    [0,0,0,0,0,0,0,0,0,1],\n",
    "])\n",
    "# 印象に関しては上から熱い、強い、危険、闘争、怖い、暖かい、明るい、元気、友情、青春、喜び、幸福、輝き、自然、安らぎ、落ち着き、安心、平和、冷たい、冷静、悲しみ、涼しい、寒い、高貴、高級、大人っぽい、嫉妬、不安、かわいい、優しい、幸せ、恋愛、甘い、純粋、清潔、神聖、清楚、無、曖昧、暗い、悩み、迷い、恐怖、孤独、闇、強さ、絶望"
   ]
  },
  {
   "cell_type": "code",
   "execution_count": 30,
   "metadata": {},
   "outputs": [
    {
     "output_type": "execute_result",
     "data": {
      "text/plain": "array([[0.15750928],\n       [0.15750928],\n       [0.15750928],\n       [0.15750928],\n       [0.15750928],\n       [0.68454413],\n       [0.33231014],\n       [0.68454413],\n       [0.33231014],\n       [0.33231014],\n       [0.35223398],\n       [0.35223398],\n       [0.35223398],\n       [0.16317814],\n       [0.16317814],\n       [0.16317814],\n       [0.16317814],\n       [0.16317814],\n       [0.15750928],\n       [0.15750928],\n       [0.15750928],\n       [0.15750928],\n       [0.15750928],\n       [0.36713195],\n       [0.36713195],\n       [0.36713195],\n       [0.36713195],\n       [1.04965314],\n       [0.35224911],\n       [0.35224911],\n       [0.35224911],\n       [0.35224911],\n       [0.35224911],\n       [0.64028981],\n       [0.64028981],\n       [0.64028981],\n       [0.64028981],\n       [0.64028981],\n       [0.68252119],\n       [0.68252119],\n       [0.68252119],\n       [0.68252119],\n       [0.        ],\n       [0.        ],\n       [0.        ],\n       [0.        ],\n       [0.        ]])"
     },
     "metadata": {},
     "execution_count": 30
    }
   ],
   "source": [
    "y = np.dot(A, x)\n",
    "y"
   ]
  },
  {
   "cell_type": "code",
   "execution_count": 122,
   "metadata": {},
   "outputs": [],
   "source": [
    "df = pd.DataFrame([\n",
    "    [\"熱い\"],[\"強い\"],[\"危険\"],[\"闘争\"],[\"怖い\"],\n",
    "    [\"暖かい\"],[\"明るい\"],[\"元気\"],[\"友情\"],[\"青春\"],\n",
    "    [\"喜び\"],[\"幸福\"],[\"輝き\"],\n",
    "    [\"自然\"],[\"安らぎ\"],[\"落ち着き\"],[\"安心\"],[\"平和\"],\n",
    "    [\"冷たい\"],[\"冷静\"],[\"悲しみ\"],[\"涼しい\"],[\"寒い\"],\n",
    "    [\"高貴\"],[\"高級\"],[\"大人っぽい\"],[\"嫉妬\"],[\"不安\"],\n",
    "    [\"可愛い\"],[\"優しい\"],[\"幸せ\"],[\"恋愛\"],[\"甘い\"],\n",
    "    [\"純粋\"],[\"高潔\"],[\"神聖\"],[\"清楚\"],[\"無\"],\n",
    "    [\"曖昧\"],[\"暗い\"],[\"悩み\"],[\"迷い\"],\n",
    "    [\"恐怖\"],[\"孤独\"],[\"闇\"],[\"強さ\"],[\"絶望\"]\n",
    "],columns = [\"name\"])"
   ]
  },
  {
   "cell_type": "code",
   "execution_count": 123,
   "metadata": {},
   "outputs": [
    {
     "output_type": "execute_result",
     "data": {
      "text/plain": "     name\n0      熱い\n1      強い\n2      危険\n3      闘争\n4      怖い\n5     暖かい\n6     明るい\n7      元気\n8      友情\n9      青春\n10     喜び\n11     幸福\n12     輝き\n13     自然\n14    安らぎ\n15   落ち着き\n16     安心\n17     平和\n18    冷たい\n19     冷静\n20    悲しみ\n21    涼しい\n22     寒い\n23     高貴\n24     高級\n25  大人っぽい\n26     嫉妬\n27     不安\n28    可愛い\n29    優しい\n30     幸せ\n31     恋愛\n32     甘い\n33     純粋\n34     高潔\n35     神聖\n36     清楚\n37      無\n38     曖昧\n39     暗い\n40     悩み\n41     迷い\n42     恐怖\n43     孤独\n44      闇\n45     強さ\n46     絶望",
      "text/html": "<div>\n<style scoped>\n    .dataframe tbody tr th:only-of-type {\n        vertical-align: middle;\n    }\n\n    .dataframe tbody tr th {\n        vertical-align: top;\n    }\n\n    .dataframe thead th {\n        text-align: right;\n    }\n</style>\n<table border=\"1\" class=\"dataframe\">\n  <thead>\n    <tr style=\"text-align: right;\">\n      <th></th>\n      <th>name</th>\n    </tr>\n  </thead>\n  <tbody>\n    <tr>\n      <th>0</th>\n      <td>熱い</td>\n    </tr>\n    <tr>\n      <th>1</th>\n      <td>強い</td>\n    </tr>\n    <tr>\n      <th>2</th>\n      <td>危険</td>\n    </tr>\n    <tr>\n      <th>3</th>\n      <td>闘争</td>\n    </tr>\n    <tr>\n      <th>4</th>\n      <td>怖い</td>\n    </tr>\n    <tr>\n      <th>5</th>\n      <td>暖かい</td>\n    </tr>\n    <tr>\n      <th>6</th>\n      <td>明るい</td>\n    </tr>\n    <tr>\n      <th>7</th>\n      <td>元気</td>\n    </tr>\n    <tr>\n      <th>8</th>\n      <td>友情</td>\n    </tr>\n    <tr>\n      <th>9</th>\n      <td>青春</td>\n    </tr>\n    <tr>\n      <th>10</th>\n      <td>喜び</td>\n    </tr>\n    <tr>\n      <th>11</th>\n      <td>幸福</td>\n    </tr>\n    <tr>\n      <th>12</th>\n      <td>輝き</td>\n    </tr>\n    <tr>\n      <th>13</th>\n      <td>自然</td>\n    </tr>\n    <tr>\n      <th>14</th>\n      <td>安らぎ</td>\n    </tr>\n    <tr>\n      <th>15</th>\n      <td>落ち着き</td>\n    </tr>\n    <tr>\n      <th>16</th>\n      <td>安心</td>\n    </tr>\n    <tr>\n      <th>17</th>\n      <td>平和</td>\n    </tr>\n    <tr>\n      <th>18</th>\n      <td>冷たい</td>\n    </tr>\n    <tr>\n      <th>19</th>\n      <td>冷静</td>\n    </tr>\n    <tr>\n      <th>20</th>\n      <td>悲しみ</td>\n    </tr>\n    <tr>\n      <th>21</th>\n      <td>涼しい</td>\n    </tr>\n    <tr>\n      <th>22</th>\n      <td>寒い</td>\n    </tr>\n    <tr>\n      <th>23</th>\n      <td>高貴</td>\n    </tr>\n    <tr>\n      <th>24</th>\n      <td>高級</td>\n    </tr>\n    <tr>\n      <th>25</th>\n      <td>大人っぽい</td>\n    </tr>\n    <tr>\n      <th>26</th>\n      <td>嫉妬</td>\n    </tr>\n    <tr>\n      <th>27</th>\n      <td>不安</td>\n    </tr>\n    <tr>\n      <th>28</th>\n      <td>可愛い</td>\n    </tr>\n    <tr>\n      <th>29</th>\n      <td>優しい</td>\n    </tr>\n    <tr>\n      <th>30</th>\n      <td>幸せ</td>\n    </tr>\n    <tr>\n      <th>31</th>\n      <td>恋愛</td>\n    </tr>\n    <tr>\n      <th>32</th>\n      <td>甘い</td>\n    </tr>\n    <tr>\n      <th>33</th>\n      <td>純粋</td>\n    </tr>\n    <tr>\n      <th>34</th>\n      <td>高潔</td>\n    </tr>\n    <tr>\n      <th>35</th>\n      <td>神聖</td>\n    </tr>\n    <tr>\n      <th>36</th>\n      <td>清楚</td>\n    </tr>\n    <tr>\n      <th>37</th>\n      <td>無</td>\n    </tr>\n    <tr>\n      <th>38</th>\n      <td>曖昧</td>\n    </tr>\n    <tr>\n      <th>39</th>\n      <td>暗い</td>\n    </tr>\n    <tr>\n      <th>40</th>\n      <td>悩み</td>\n    </tr>\n    <tr>\n      <th>41</th>\n      <td>迷い</td>\n    </tr>\n    <tr>\n      <th>42</th>\n      <td>恐怖</td>\n    </tr>\n    <tr>\n      <th>43</th>\n      <td>孤独</td>\n    </tr>\n    <tr>\n      <th>44</th>\n      <td>闇</td>\n    </tr>\n    <tr>\n      <th>45</th>\n      <td>強さ</td>\n    </tr>\n    <tr>\n      <th>46</th>\n      <td>絶望</td>\n    </tr>\n  </tbody>\n</table>\n</div>"
     },
     "metadata": {},
     "execution_count": 123
    }
   ],
   "source": [
    "df"
   ]
  },
  {
   "cell_type": "code",
   "execution_count": 154,
   "metadata": {},
   "outputs": [],
   "source": [
    "df_1 = pd.DataFrame(y, columns=[\"weight\"])"
   ]
  },
  {
   "cell_type": "code",
   "execution_count": 155,
   "metadata": {},
   "outputs": [
    {
     "output_type": "execute_result",
     "data": {
      "text/plain": "      weight\n0   0.157509\n1   0.157509\n2   0.157509\n3   0.157509\n4   0.157509\n5   0.684544\n6   0.332310\n7   0.684544\n8   0.332310\n9   0.332310\n10  0.352234\n11  0.352234\n12  0.352234\n13  0.163178\n14  0.163178\n15  0.163178\n16  0.163178\n17  0.163178\n18  0.157509\n19  0.157509\n20  0.157509\n21  0.157509\n22  0.157509\n23  0.367132\n24  0.367132\n25  0.367132\n26  0.367132\n27  1.049653\n28  0.352249\n29  0.352249\n30  0.352249\n31  0.352249\n32  0.352249\n33  0.640290\n34  0.640290\n35  0.640290\n36  0.640290\n37  0.640290\n38  0.682521\n39  0.682521\n40  0.682521\n41  0.682521\n42  0.000000\n43  0.000000\n44  0.000000\n45  0.000000\n46  0.000000",
      "text/html": "<div>\n<style scoped>\n    .dataframe tbody tr th:only-of-type {\n        vertical-align: middle;\n    }\n\n    .dataframe tbody tr th {\n        vertical-align: top;\n    }\n\n    .dataframe thead th {\n        text-align: right;\n    }\n</style>\n<table border=\"1\" class=\"dataframe\">\n  <thead>\n    <tr style=\"text-align: right;\">\n      <th></th>\n      <th>weight</th>\n    </tr>\n  </thead>\n  <tbody>\n    <tr>\n      <th>0</th>\n      <td>0.157509</td>\n    </tr>\n    <tr>\n      <th>1</th>\n      <td>0.157509</td>\n    </tr>\n    <tr>\n      <th>2</th>\n      <td>0.157509</td>\n    </tr>\n    <tr>\n      <th>3</th>\n      <td>0.157509</td>\n    </tr>\n    <tr>\n      <th>4</th>\n      <td>0.157509</td>\n    </tr>\n    <tr>\n      <th>5</th>\n      <td>0.684544</td>\n    </tr>\n    <tr>\n      <th>6</th>\n      <td>0.332310</td>\n    </tr>\n    <tr>\n      <th>7</th>\n      <td>0.684544</td>\n    </tr>\n    <tr>\n      <th>8</th>\n      <td>0.332310</td>\n    </tr>\n    <tr>\n      <th>9</th>\n      <td>0.332310</td>\n    </tr>\n    <tr>\n      <th>10</th>\n      <td>0.352234</td>\n    </tr>\n    <tr>\n      <th>11</th>\n      <td>0.352234</td>\n    </tr>\n    <tr>\n      <th>12</th>\n      <td>0.352234</td>\n    </tr>\n    <tr>\n      <th>13</th>\n      <td>0.163178</td>\n    </tr>\n    <tr>\n      <th>14</th>\n      <td>0.163178</td>\n    </tr>\n    <tr>\n      <th>15</th>\n      <td>0.163178</td>\n    </tr>\n    <tr>\n      <th>16</th>\n      <td>0.163178</td>\n    </tr>\n    <tr>\n      <th>17</th>\n      <td>0.163178</td>\n    </tr>\n    <tr>\n      <th>18</th>\n      <td>0.157509</td>\n    </tr>\n    <tr>\n      <th>19</th>\n      <td>0.157509</td>\n    </tr>\n    <tr>\n      <th>20</th>\n      <td>0.157509</td>\n    </tr>\n    <tr>\n      <th>21</th>\n      <td>0.157509</td>\n    </tr>\n    <tr>\n      <th>22</th>\n      <td>0.157509</td>\n    </tr>\n    <tr>\n      <th>23</th>\n      <td>0.367132</td>\n    </tr>\n    <tr>\n      <th>24</th>\n      <td>0.367132</td>\n    </tr>\n    <tr>\n      <th>25</th>\n      <td>0.367132</td>\n    </tr>\n    <tr>\n      <th>26</th>\n      <td>0.367132</td>\n    </tr>\n    <tr>\n      <th>27</th>\n      <td>1.049653</td>\n    </tr>\n    <tr>\n      <th>28</th>\n      <td>0.352249</td>\n    </tr>\n    <tr>\n      <th>29</th>\n      <td>0.352249</td>\n    </tr>\n    <tr>\n      <th>30</th>\n      <td>0.352249</td>\n    </tr>\n    <tr>\n      <th>31</th>\n      <td>0.352249</td>\n    </tr>\n    <tr>\n      <th>32</th>\n      <td>0.352249</td>\n    </tr>\n    <tr>\n      <th>33</th>\n      <td>0.640290</td>\n    </tr>\n    <tr>\n      <th>34</th>\n      <td>0.640290</td>\n    </tr>\n    <tr>\n      <th>35</th>\n      <td>0.640290</td>\n    </tr>\n    <tr>\n      <th>36</th>\n      <td>0.640290</td>\n    </tr>\n    <tr>\n      <th>37</th>\n      <td>0.640290</td>\n    </tr>\n    <tr>\n      <th>38</th>\n      <td>0.682521</td>\n    </tr>\n    <tr>\n      <th>39</th>\n      <td>0.682521</td>\n    </tr>\n    <tr>\n      <th>40</th>\n      <td>0.682521</td>\n    </tr>\n    <tr>\n      <th>41</th>\n      <td>0.682521</td>\n    </tr>\n    <tr>\n      <th>42</th>\n      <td>0.000000</td>\n    </tr>\n    <tr>\n      <th>43</th>\n      <td>0.000000</td>\n    </tr>\n    <tr>\n      <th>44</th>\n      <td>0.000000</td>\n    </tr>\n    <tr>\n      <th>45</th>\n      <td>0.000000</td>\n    </tr>\n    <tr>\n      <th>46</th>\n      <td>0.000000</td>\n    </tr>\n  </tbody>\n</table>\n</div>"
     },
     "metadata": {},
     "execution_count": 155
    }
   ],
   "source": [
    "df_1"
   ]
  },
  {
   "cell_type": "code",
   "execution_count": 156,
   "metadata": {},
   "outputs": [],
   "source": [
    "df_final = pd.concat([df, df_1], axis = 1)"
   ]
  },
  {
   "cell_type": "code",
   "execution_count": 157,
   "metadata": {},
   "outputs": [
    {
     "output_type": "execute_result",
     "data": {
      "text/plain": "     name    weight\n0      熱い  0.157509\n1      強い  0.157509\n2      危険  0.157509\n3      闘争  0.157509\n4      怖い  0.157509\n5     暖かい  0.684544\n6     明るい  0.332310\n7      元気  0.684544\n8      友情  0.332310\n9      青春  0.332310\n10     喜び  0.352234\n11     幸福  0.352234\n12     輝き  0.352234\n13     自然  0.163178\n14    安らぎ  0.163178\n15   落ち着き  0.163178\n16     安心  0.163178\n17     平和  0.163178\n18    冷たい  0.157509\n19     冷静  0.157509\n20    悲しみ  0.157509\n21    涼しい  0.157509\n22     寒い  0.157509\n23     高貴  0.367132\n24     高級  0.367132\n25  大人っぽい  0.367132\n26     嫉妬  0.367132\n27     不安  1.049653\n28    可愛い  0.352249\n29    優しい  0.352249\n30     幸せ  0.352249\n31     恋愛  0.352249\n32     甘い  0.352249\n33     純粋  0.640290\n34     高潔  0.640290\n35     神聖  0.640290\n36     清楚  0.640290\n37      無  0.640290\n38     曖昧  0.682521\n39     暗い  0.682521\n40     悩み  0.682521\n41     迷い  0.682521\n42     恐怖  0.000000\n43     孤独  0.000000\n44      闇  0.000000\n45     強さ  0.000000\n46     絶望  0.000000",
      "text/html": "<div>\n<style scoped>\n    .dataframe tbody tr th:only-of-type {\n        vertical-align: middle;\n    }\n\n    .dataframe tbody tr th {\n        vertical-align: top;\n    }\n\n    .dataframe thead th {\n        text-align: right;\n    }\n</style>\n<table border=\"1\" class=\"dataframe\">\n  <thead>\n    <tr style=\"text-align: right;\">\n      <th></th>\n      <th>name</th>\n      <th>weight</th>\n    </tr>\n  </thead>\n  <tbody>\n    <tr>\n      <th>0</th>\n      <td>熱い</td>\n      <td>0.157509</td>\n    </tr>\n    <tr>\n      <th>1</th>\n      <td>強い</td>\n      <td>0.157509</td>\n    </tr>\n    <tr>\n      <th>2</th>\n      <td>危険</td>\n      <td>0.157509</td>\n    </tr>\n    <tr>\n      <th>3</th>\n      <td>闘争</td>\n      <td>0.157509</td>\n    </tr>\n    <tr>\n      <th>4</th>\n      <td>怖い</td>\n      <td>0.157509</td>\n    </tr>\n    <tr>\n      <th>5</th>\n      <td>暖かい</td>\n      <td>0.684544</td>\n    </tr>\n    <tr>\n      <th>6</th>\n      <td>明るい</td>\n      <td>0.332310</td>\n    </tr>\n    <tr>\n      <th>7</th>\n      <td>元気</td>\n      <td>0.684544</td>\n    </tr>\n    <tr>\n      <th>8</th>\n      <td>友情</td>\n      <td>0.332310</td>\n    </tr>\n    <tr>\n      <th>9</th>\n      <td>青春</td>\n      <td>0.332310</td>\n    </tr>\n    <tr>\n      <th>10</th>\n      <td>喜び</td>\n      <td>0.352234</td>\n    </tr>\n    <tr>\n      <th>11</th>\n      <td>幸福</td>\n      <td>0.352234</td>\n    </tr>\n    <tr>\n      <th>12</th>\n      <td>輝き</td>\n      <td>0.352234</td>\n    </tr>\n    <tr>\n      <th>13</th>\n      <td>自然</td>\n      <td>0.163178</td>\n    </tr>\n    <tr>\n      <th>14</th>\n      <td>安らぎ</td>\n      <td>0.163178</td>\n    </tr>\n    <tr>\n      <th>15</th>\n      <td>落ち着き</td>\n      <td>0.163178</td>\n    </tr>\n    <tr>\n      <th>16</th>\n      <td>安心</td>\n      <td>0.163178</td>\n    </tr>\n    <tr>\n      <th>17</th>\n      <td>平和</td>\n      <td>0.163178</td>\n    </tr>\n    <tr>\n      <th>18</th>\n      <td>冷たい</td>\n      <td>0.157509</td>\n    </tr>\n    <tr>\n      <th>19</th>\n      <td>冷静</td>\n      <td>0.157509</td>\n    </tr>\n    <tr>\n      <th>20</th>\n      <td>悲しみ</td>\n      <td>0.157509</td>\n    </tr>\n    <tr>\n      <th>21</th>\n      <td>涼しい</td>\n      <td>0.157509</td>\n    </tr>\n    <tr>\n      <th>22</th>\n      <td>寒い</td>\n      <td>0.157509</td>\n    </tr>\n    <tr>\n      <th>23</th>\n      <td>高貴</td>\n      <td>0.367132</td>\n    </tr>\n    <tr>\n      <th>24</th>\n      <td>高級</td>\n      <td>0.367132</td>\n    </tr>\n    <tr>\n      <th>25</th>\n      <td>大人っぽい</td>\n      <td>0.367132</td>\n    </tr>\n    <tr>\n      <th>26</th>\n      <td>嫉妬</td>\n      <td>0.367132</td>\n    </tr>\n    <tr>\n      <th>27</th>\n      <td>不安</td>\n      <td>1.049653</td>\n    </tr>\n    <tr>\n      <th>28</th>\n      <td>可愛い</td>\n      <td>0.352249</td>\n    </tr>\n    <tr>\n      <th>29</th>\n      <td>優しい</td>\n      <td>0.352249</td>\n    </tr>\n    <tr>\n      <th>30</th>\n      <td>幸せ</td>\n      <td>0.352249</td>\n    </tr>\n    <tr>\n      <th>31</th>\n      <td>恋愛</td>\n      <td>0.352249</td>\n    </tr>\n    <tr>\n      <th>32</th>\n      <td>甘い</td>\n      <td>0.352249</td>\n    </tr>\n    <tr>\n      <th>33</th>\n      <td>純粋</td>\n      <td>0.640290</td>\n    </tr>\n    <tr>\n      <th>34</th>\n      <td>高潔</td>\n      <td>0.640290</td>\n    </tr>\n    <tr>\n      <th>35</th>\n      <td>神聖</td>\n      <td>0.640290</td>\n    </tr>\n    <tr>\n      <th>36</th>\n      <td>清楚</td>\n      <td>0.640290</td>\n    </tr>\n    <tr>\n      <th>37</th>\n      <td>無</td>\n      <td>0.640290</td>\n    </tr>\n    <tr>\n      <th>38</th>\n      <td>曖昧</td>\n      <td>0.682521</td>\n    </tr>\n    <tr>\n      <th>39</th>\n      <td>暗い</td>\n      <td>0.682521</td>\n    </tr>\n    <tr>\n      <th>40</th>\n      <td>悩み</td>\n      <td>0.682521</td>\n    </tr>\n    <tr>\n      <th>41</th>\n      <td>迷い</td>\n      <td>0.682521</td>\n    </tr>\n    <tr>\n      <th>42</th>\n      <td>恐怖</td>\n      <td>0.000000</td>\n    </tr>\n    <tr>\n      <th>43</th>\n      <td>孤独</td>\n      <td>0.000000</td>\n    </tr>\n    <tr>\n      <th>44</th>\n      <td>闇</td>\n      <td>0.000000</td>\n    </tr>\n    <tr>\n      <th>45</th>\n      <td>強さ</td>\n      <td>0.000000</td>\n    </tr>\n    <tr>\n      <th>46</th>\n      <td>絶望</td>\n      <td>0.000000</td>\n    </tr>\n  </tbody>\n</table>\n</div>"
     },
     "metadata": {},
     "execution_count": 157
    }
   ],
   "source": [
    "df_final"
   ]
  },
  {
   "cell_type": "code",
   "execution_count": 159,
   "metadata": {},
   "outputs": [
    {
     "output_type": "execute_result",
     "data": {
      "text/plain": "     name    weight\n27     不安  1.049653\n5     暖かい  0.684544\n7      元気  0.684544\n38     曖昧  0.682521\n41     迷い  0.682521\n40     悩み  0.682521\n39     暗い  0.682521\n36     清楚  0.640290\n35     神聖  0.640290\n37      無  0.640290\n34     高潔  0.640290\n33     純粋  0.640290\n24     高級  0.367132\n23     高貴  0.367132\n25  大人っぽい  0.367132\n26     嫉妬  0.367132\n29    優しい  0.352249\n30     幸せ  0.352249\n28    可愛い  0.352249\n31     恋愛  0.352249\n32     甘い  0.352249\n12     輝き  0.352234\n11     幸福  0.352234\n10     喜び  0.352234\n9      青春  0.332310\n8      友情  0.332310\n6     明るい  0.332310\n17     平和  0.163178\n15   落ち着き  0.163178\n14    安らぎ  0.163178\n13     自然  0.163178\n16     安心  0.163178\n0      熱い  0.157509\n1      強い  0.157509\n22     寒い  0.157509\n21    涼しい  0.157509\n20    悲しみ  0.157509\n19     冷静  0.157509\n18    冷たい  0.157509\n4      怖い  0.157509\n3      闘争  0.157509\n2      危険  0.157509\n42     恐怖  0.000000\n43     孤独  0.000000\n44      闇  0.000000\n45     強さ  0.000000\n46     絶望  0.000000",
      "text/html": "<div>\n<style scoped>\n    .dataframe tbody tr th:only-of-type {\n        vertical-align: middle;\n    }\n\n    .dataframe tbody tr th {\n        vertical-align: top;\n    }\n\n    .dataframe thead th {\n        text-align: right;\n    }\n</style>\n<table border=\"1\" class=\"dataframe\">\n  <thead>\n    <tr style=\"text-align: right;\">\n      <th></th>\n      <th>name</th>\n      <th>weight</th>\n    </tr>\n  </thead>\n  <tbody>\n    <tr>\n      <th>27</th>\n      <td>不安</td>\n      <td>1.049653</td>\n    </tr>\n    <tr>\n      <th>5</th>\n      <td>暖かい</td>\n      <td>0.684544</td>\n    </tr>\n    <tr>\n      <th>7</th>\n      <td>元気</td>\n      <td>0.684544</td>\n    </tr>\n    <tr>\n      <th>38</th>\n      <td>曖昧</td>\n      <td>0.682521</td>\n    </tr>\n    <tr>\n      <th>41</th>\n      <td>迷い</td>\n      <td>0.682521</td>\n    </tr>\n    <tr>\n      <th>40</th>\n      <td>悩み</td>\n      <td>0.682521</td>\n    </tr>\n    <tr>\n      <th>39</th>\n      <td>暗い</td>\n      <td>0.682521</td>\n    </tr>\n    <tr>\n      <th>36</th>\n      <td>清楚</td>\n      <td>0.640290</td>\n    </tr>\n    <tr>\n      <th>35</th>\n      <td>神聖</td>\n      <td>0.640290</td>\n    </tr>\n    <tr>\n      <th>37</th>\n      <td>無</td>\n      <td>0.640290</td>\n    </tr>\n    <tr>\n      <th>34</th>\n      <td>高潔</td>\n      <td>0.640290</td>\n    </tr>\n    <tr>\n      <th>33</th>\n      <td>純粋</td>\n      <td>0.640290</td>\n    </tr>\n    <tr>\n      <th>24</th>\n      <td>高級</td>\n      <td>0.367132</td>\n    </tr>\n    <tr>\n      <th>23</th>\n      <td>高貴</td>\n      <td>0.367132</td>\n    </tr>\n    <tr>\n      <th>25</th>\n      <td>大人っぽい</td>\n      <td>0.367132</td>\n    </tr>\n    <tr>\n      <th>26</th>\n      <td>嫉妬</td>\n      <td>0.367132</td>\n    </tr>\n    <tr>\n      <th>29</th>\n      <td>優しい</td>\n      <td>0.352249</td>\n    </tr>\n    <tr>\n      <th>30</th>\n      <td>幸せ</td>\n      <td>0.352249</td>\n    </tr>\n    <tr>\n      <th>28</th>\n      <td>可愛い</td>\n      <td>0.352249</td>\n    </tr>\n    <tr>\n      <th>31</th>\n      <td>恋愛</td>\n      <td>0.352249</td>\n    </tr>\n    <tr>\n      <th>32</th>\n      <td>甘い</td>\n      <td>0.352249</td>\n    </tr>\n    <tr>\n      <th>12</th>\n      <td>輝き</td>\n      <td>0.352234</td>\n    </tr>\n    <tr>\n      <th>11</th>\n      <td>幸福</td>\n      <td>0.352234</td>\n    </tr>\n    <tr>\n      <th>10</th>\n      <td>喜び</td>\n      <td>0.352234</td>\n    </tr>\n    <tr>\n      <th>9</th>\n      <td>青春</td>\n      <td>0.332310</td>\n    </tr>\n    <tr>\n      <th>8</th>\n      <td>友情</td>\n      <td>0.332310</td>\n    </tr>\n    <tr>\n      <th>6</th>\n      <td>明るい</td>\n      <td>0.332310</td>\n    </tr>\n    <tr>\n      <th>17</th>\n      <td>平和</td>\n      <td>0.163178</td>\n    </tr>\n    <tr>\n      <th>15</th>\n      <td>落ち着き</td>\n      <td>0.163178</td>\n    </tr>\n    <tr>\n      <th>14</th>\n      <td>安らぎ</td>\n      <td>0.163178</td>\n    </tr>\n    <tr>\n      <th>13</th>\n      <td>自然</td>\n      <td>0.163178</td>\n    </tr>\n    <tr>\n      <th>16</th>\n      <td>安心</td>\n      <td>0.163178</td>\n    </tr>\n    <tr>\n      <th>0</th>\n      <td>熱い</td>\n      <td>0.157509</td>\n    </tr>\n    <tr>\n      <th>1</th>\n      <td>強い</td>\n      <td>0.157509</td>\n    </tr>\n    <tr>\n      <th>22</th>\n      <td>寒い</td>\n      <td>0.157509</td>\n    </tr>\n    <tr>\n      <th>21</th>\n      <td>涼しい</td>\n      <td>0.157509</td>\n    </tr>\n    <tr>\n      <th>20</th>\n      <td>悲しみ</td>\n      <td>0.157509</td>\n    </tr>\n    <tr>\n      <th>19</th>\n      <td>冷静</td>\n      <td>0.157509</td>\n    </tr>\n    <tr>\n      <th>18</th>\n      <td>冷たい</td>\n      <td>0.157509</td>\n    </tr>\n    <tr>\n      <th>4</th>\n      <td>怖い</td>\n      <td>0.157509</td>\n    </tr>\n    <tr>\n      <th>3</th>\n      <td>闘争</td>\n      <td>0.157509</td>\n    </tr>\n    <tr>\n      <th>2</th>\n      <td>危険</td>\n      <td>0.157509</td>\n    </tr>\n    <tr>\n      <th>42</th>\n      <td>恐怖</td>\n      <td>0.000000</td>\n    </tr>\n    <tr>\n      <th>43</th>\n      <td>孤独</td>\n      <td>0.000000</td>\n    </tr>\n    <tr>\n      <th>44</th>\n      <td>闇</td>\n      <td>0.000000</td>\n    </tr>\n    <tr>\n      <th>45</th>\n      <td>強さ</td>\n      <td>0.000000</td>\n    </tr>\n    <tr>\n      <th>46</th>\n      <td>絶望</td>\n      <td>0.000000</td>\n    </tr>\n  </tbody>\n</table>\n</div>"
     },
     "metadata": {},
     "execution_count": 159
    }
   ],
   "source": [
    "df_final.sort_values(by = \"weight\",ascending=False)"
   ]
  }
 ],
 "metadata": {
  "language_info": {
   "codemirror_mode": {
    "name": "ipython",
    "version": 3
   },
   "file_extension": ".py",
   "mimetype": "text/x-python",
   "name": "python",
   "nbconvert_exporter": "python",
   "pygments_lexer": "ipython3",
   "version": "3.6.7-final"
  },
  "orig_nbformat": 2,
  "kernelspec": {
   "name": "python36764bitnakanishidatamathpipenva977fb3d96b04cda8d91ff51a8cf7aed",
   "display_name": "Python 3.6.7 64-bit ('nakanishi_data_math': pipenv)"
  }
 },
 "nbformat": 4,
 "nbformat_minor": 2
}